{
 "cells": [
  {
   "cell_type": "code",
   "execution_count": 8,
   "metadata": {},
   "outputs": [],
   "source": [
    "import numpy as np\n",
    "from PIL import Image"
   ]
  },
  {
   "cell_type": "code",
   "execution_count": 12,
   "metadata": {},
   "outputs": [
    {
     "name": "stdout",
     "output_type": "stream",
     "text": [
      "(750, 1000, 3)\n"
     ]
    }
   ],
   "source": [
    "##USING ONLY GREEN CHANNEL##\n",
    "\n",
    "#open image\n",
    "filename = input(\"[test_difference] Picture name: \")\n",
    "if(filename == \"\"):\n",
    "    filename = \"test_difference\"\n",
    "\n",
    "format = input(\"[jpg] Format: \")\n",
    "if(format == \"\"):\n",
    "    format = \"jpg\"\n",
    "\n",
    "im = Image.open(str(filename)+'.'+str(format))\n",
    "intensity_array = np.array(im)\n",
    "\n",
    "offset = input(\"[0.5] Distance from nearest Object: \")\n",
    "if(offset == \"\"):\n",
    "    offset = 0.5\n",
    "else:\n",
    "    offset = float(offset)\n",
    "\n",
    "pro = input(\"[0.1] Meter pro lightlevel: \")\n",
    "if(pro == \"\"):\n",
    "    pro = 0.1\n",
    "else:\n",
    "    pro = float(pro)\n",
    "\n",
    "#DEBUG\n",
    "print(intensity_array.shape)"
   ]
  },
  {
   "cell_type": "code",
   "execution_count": 13,
   "metadata": {},
   "outputs": [],
   "source": [
    "#get distance\n",
    "\n",
    "inv_distance_array = np.zeros((len(intensity_array),len(intensity_array[0])))\n",
    "for y in range(len(intensity_array)):\n",
    "    for x in range(len(intensity_array[0])):\n",
    "        if(intensity_array[y][x][1] == 0):\n",
    "            inv_distance_array[y][x] = 0\n",
    "        else:\n",
    "            inv_distance_array[y][x] = (((255/intensity_array[y][x][1])**0.5-1)/pro+offset)*-1+255"
   ]
  },
  {
   "cell_type": "code",
   "execution_count": 14,
   "metadata": {},
   "outputs": [
    {
     "name": "stdout",
     "output_type": "stream",
     "text": [
      "111.05083268962915\n"
     ]
    },
    {
     "data": {
      "text/plain": [
       "''"
      ]
     },
     "execution_count": 14,
     "metadata": {},
     "output_type": "execute_result"
    }
   ],
   "source": [
    "#save depth image\n",
    "print(inv_distance_array[50][50])\n",
    "out_im = Image.fromarray(np.uint8(inv_distance_array), 'L')\n",
    "save = input(\"[jpg] Save as: \")\n",
    "if(save == \"\"):\n",
    "    save = \"jpg\"\n",
    "out_im.save(\"Depth_\"+str(filename)+'.'+str(save))\n",
    "\n",
    "input(\"[OK] Saved with \"+str(pro)+\" meter for each light level.\")"
   ]
  }
 ],
 "metadata": {
  "kernelspec": {
   "display_name": "Python 3.10.2 64-bit",
   "language": "python",
   "name": "python3"
  },
  "language_info": {
   "codemirror_mode": {
    "name": "ipython",
    "version": 3
   },
   "file_extension": ".py",
   "mimetype": "text/x-python",
   "name": "python",
   "nbconvert_exporter": "python",
   "pygments_lexer": "ipython3",
   "version": "3.10.2"
  },
  "orig_nbformat": 4,
  "vscode": {
   "interpreter": {
    "hash": "49da9419f08f1df049d04190fd0fc06a86872cbd4d901cecf77169b9515d18fd"
   }
  }
 },
 "nbformat": 4,
 "nbformat_minor": 2
}
